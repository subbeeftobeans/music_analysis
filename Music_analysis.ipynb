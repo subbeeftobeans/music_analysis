{
 "cells": [
  {
   "cell_type": "code",
   "execution_count": null,
   "id": "a511a362-086f-478d-b3f7-eb5ce1e4b14a",
   "metadata": {},
   "outputs": [],
   "source": [
    "import pandas as pd\n",
    "from pathlib import Path\n",
    "\n",
    "folder = Path('/path/to/your/folder')\n",
    "csv_files = folder.glob('*.csv')\n",
    "\n",
    "dfs = [pd.read_csv(file) for file in csv_files]\n",
    "\n",
    "# Example: print first DataFrame\n",
    "print(dfs[0].head())\n"
   ]
  }
 ],
 "metadata": {
  "kernelspec": {
   "display_name": "Python [conda env:base] *",
   "language": "python",
   "name": "conda-base-py"
  },
  "language_info": {
   "codemirror_mode": {
    "name": "ipython",
    "version": 3
   },
   "file_extension": ".py",
   "mimetype": "text/x-python",
   "name": "python",
   "nbconvert_exporter": "python",
   "pygments_lexer": "ipython3",
   "version": "3.12.2"
  }
 },
 "nbformat": 4,
 "nbformat_minor": 5
}
